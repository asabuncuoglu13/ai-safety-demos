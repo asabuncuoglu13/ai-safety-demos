{
  "cells": [
    {
      "cell_type": "markdown",
      "metadata": {
        "id": "TXkkHYyJ98_k"
      },
      "source": [
        "## About the Dataset and Prediction Task\n",
        "\n",
        "This notebook is based on a demo shared by [Google PAIR's Facets Library](https://pair-code.github.io/facets/). It uses the [Adult Census Income dataset](https://archive.ics.uci.edu/ml/datasets/Census+Income). The library is public archived, but it is useful for exploring subgroups throughout EDA.\n",
        "\n",
        "Each sample in the dataset contains the following demographic data for a set of individuals who took part in the 1994 Census:\n",
        "\n",
        "### Numeric Features\n",
        "*   `age`: The age of the individual in years.\n",
        "*   `fnlwgt`: The number of individuals the Census Organizations believes that set of observations represents.\n",
        "*   `education_num`:  An enumeration of the categorical representation of education. The higher the number, the higher the education that individual achieved. For example, an `education_num` of `11` represents `Assoc_voc` (associate degree at a vocational school), an `education_num` of `13` represents `Bachelors`, and an `education_num` of `9` represents `HS-grad` (high school graduate).\n",
        "*   `capital_gain`: Capital gain made by the individual, represented in US Dollars.\n",
        "*   `capital_loss`: Capital loss made by the individual, represented in US Dollars.\n",
        "*   `hours_per_week`: Hours worked per week.\n",
        "\n",
        "### Categorical Features\n",
        "*   `workclass`: The individual's type of employer. Examples include: `Private`, `Self-emp-not-inc`, `Self-emp-inc`, `Federal-gov`, `Local-gov`, `State-gov`, `Without-pay`, and `Never-worked`.\n",
        "*   `education`: The highest level of education achieved for that individual.\n",
        "*   `marital_status`: Marital status of the individual. Examples include: `Married-civ-spouse`, `Divorced`, `Never-married`, `Separated`, `Widowed`, `Married-spouse-absent`, and `Married-AF-spouse`.\n",
        "*   `occupation`: The occupation of the individual. Example include: `tech-support`, `Craft-repair`, `Other-service`, `Sales`, `Exec-managerial` and more.\n",
        "*   `relationship`:  The relationship of each individual in a household. Examples include: `Wife`, `Own-child`, `Husband`, `Not-in-family`, `Other-relative`, and `Unmarried`.\n",
        "*   `gender`:  Gender of the individual available only in binary choices: `Female` or `Male`.\n",
        "*   `race`: `White`, `Asian-Pac-Islander`, `Amer-Indian-Eskimo`, `Black`, and `Other`.\n",
        "*   `native_country`: Country of origin of the individual. Examples include: `United-States`, `Cambodia`, `England`, `Puerto-Rico`, `Canada`, `Germany`, `Outlying-US(Guam-USVI-etc)`, `India`, `Japan`, and more.\n",
        "\n",
        "### Prediction Task\n",
        "The prediction task is to **determine whether a person makes over $50,000 US Dollar a year.**\n",
        "\n",
        "### Label\n",
        "*   `income_bracket`: Whether the person makes more than $50,000 US Dollars annually.\n",
        "\n",
        "### Notes on Data Collection\n",
        "\n",
        "All the examples extracted for this dataset meet the following conditions:\n",
        "*   `age` is 16 years or older.\n",
        "*   The adjusted gross income (used to calculate `income_bracket`) is greater than $100 USD annually.\n",
        "*   `fnlwgt` is greater than 0.\n",
        "*   `hours_per_week` is greater than 0."
      ]
    },
    {
      "cell_type": "code",
      "execution_count": 3,
      "metadata": {
        "colab": {
          "base_uri": "https://localhost:8080/"
        },
        "id": "2e_0DJJ8zE29",
        "outputId": "7d0fee28-d3ac-415d-fa5b-cfa806ce43b5"
      },
      "outputs": [
        {
          "name": "stderr",
          "output_type": "stream",
          "text": [
            "/var/folders/p7/r5r4nxk51x346x1818930krc0000gr/T/ipykernel_49027/3592738248.py:15: DeprecationWarning: Importing display from IPython.core.display is deprecated since IPython 7.14, please import from IPython.display\n",
            "  from IPython.core.display import display, HTML\n"
          ]
        }
      ],
      "source": [
        "#@title Import relevant modules and install Facets\n",
        "import numpy as np\n",
        "import pandas as pd\n",
        "import tensorflow as tf\n",
        "from tensorflow.keras import layers\n",
        "from matplotlib import pyplot as plt\n",
        "from matplotlib import rcParams\n",
        "import seaborn as sns\n",
        "\n",
        "# The following lines adjust the granularity of reporting.\n",
        "pd.options.display.max_rows = 10\n",
        "pd.options.display.float_format = \"{:.1f}\".format\n",
        "\n",
        "# For facets\n",
        "from IPython.core.display import display, HTML\n",
        "import base64\n",
        "from facets_overview.feature_statistics_generator import FeatureStatisticsGenerator"
      ]
    },
    {
      "cell_type": "markdown",
      "metadata": {
        "id": "-xgIRapb5LaQ"
      },
      "source": [
        "### Load the Adult Dataset\n",
        "\n",
        "With the modules now imported, we can load the Adult dataset into a pandas DataFrame data structure."
      ]
    },
    {
      "cell_type": "code",
      "execution_count": 6,
      "metadata": {
        "colab": {
          "base_uri": "https://localhost:8080/"
        },
        "id": "TeCNVvVUVS0P",
        "outputId": "9bf65543-ec90-456d-8f57-7dc51d693a89"
      },
      "outputs": [],
      "source": [
        "COLUMNS = [\"age\", \"workclass\", \"fnlwgt\", \"education\", \"education_num\",\n",
        "           \"marital_status\", \"occupation\", \"relationship\", \"race\", \"gender\",\n",
        "           \"capital_gain\", \"capital_loss\", \"hours_per_week\", \"native_country\",\n",
        "           \"income_bracket\"]\n",
        "\n",
        "# Download: 'https://download.mlcc.google.com/mledu-datasets/adult_census_train.csv'\n",
        "# Download: 'https://download.mlcc.google.com/mledu-datasets/adult_census_test.csv'\n",
        "train_csv = \"data/adult_census_train.csv\"\n",
        "test_csv = \"data/adult_census_test.csv\"\n",
        "\n",
        "train_df = pd.read_csv(train_csv, names=COLUMNS, sep=r'\\s*,\\s*',\n",
        "                       engine='python', na_values=\"?\")\n",
        "test_df = pd.read_csv(test_csv, names=COLUMNS, sep=r'\\s*,\\s*', skiprows=[0],\n",
        "                      engine='python', na_values=\"?\")\n",
        "# Strip trailing periods mistakenly included only in UCI test dataset.\n",
        "test_df['income_bracket'] = test_df.income_bracket.str.rstrip('.')"
      ]
    },
    {
      "cell_type": "markdown",
      "metadata": {
        "id": "coilRN-hooja"
      },
      "source": [
        "## Analyzing the Adult Dataset with Facets\n",
        "\n",
        "As mentioned in MLCC, it is important to understand your dataset *before* diving straight into the prediction task.\n",
        "\n",
        "Some important questions to investigate when auditing a dataset for fairness:\n",
        "\n",
        "* **Are there missing feature values for a large number of observations?**\n",
        "* **Are there features that are missing that might affect other features?**\n",
        "* **Are there any unexpected feature values?**\n",
        "* **What signs of data skew do you see?**"
      ]
    },
    {
      "cell_type": "markdown",
      "metadata": {
        "id": "9yCIuAqWA1Pm"
      },
      "source": [
        "To start, we can use [Facets Overview](https://pair-code.github.io/facets/), an interactive visualization tool that can help us explore the dataset. With Facets Overview, we can quickly analyze the distribution of values across the Adult dataset."
      ]
    },
    {
      "cell_type": "code",
      "execution_count": 7,
      "metadata": {
        "colab": {
          "base_uri": "https://localhost:8080/",
          "height": 1000
        },
        "id": "MW-qryqs1gig",
        "outputId": "aac2be31-c370-49f7-af67-ac4480e7f92b"
      },
      "outputs": [
        {
          "name": "stderr",
          "output_type": "stream",
          "text": [
            "/Users/asabuncuoglu/Documents/ai-safety-demos/.venv/lib/python3.12/site-packages/facets_overview/base_generic_feature_statistics_generator.py:121: FutureWarning: Series.ravel is deprecated. The underlying array is already 1D, so ravel is not necessary.  Use `to_numpy()` for conversion to a numpy array instead.\n",
            "  flattened = x.ravel()\n"
          ]
        },
        {
          "data": {
            "text/html": [
              "<script src=\"https://cdnjs.cloudflare.com/ajax/libs/webcomponentsjs/1.3.3/webcomponents-lite.js\"></script>\n",
              "        <link rel=\"import\" href=\"https://raw.githubusercontent.com/PAIR-code/facets/1.0.0/facets-dist/facets-jupyter.html\">\n",
              "        <facets-overview id=\"elem\"></facets-overview>\n",
              "        <script>\n",
              "          document.querySelector(\"#elem\").protoInput = \"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\";\n",
              "        </script>"
            ],
            "text/plain": [
              "<IPython.core.display.HTML object>"
            ]
          },
          "metadata": {},
          "output_type": "display_data"
        }
      ],
      "source": [
        "#@title Visualize the Data in Facets\n",
        "fsg = FeatureStatisticsGenerator()\n",
        "dataframes = [\n",
        "    {'table': train_df, 'name': 'trainData'}]\n",
        "censusProto = fsg.ProtoFromDataFrames(dataframes)\n",
        "protostr = base64.b64encode(censusProto.SerializeToString()).decode(\"utf-8\")\n",
        "\n",
        "\n",
        "HTML_TEMPLATE = \"\"\"<script src=\"https://cdnjs.cloudflare.com/ajax/libs/webcomponentsjs/1.3.3/webcomponents-lite.js\"></script>\n",
        "        <link rel=\"import\" href=\"https://raw.githubusercontent.com/PAIR-code/facets/1.0.0/facets-dist/facets-jupyter.html\">\n",
        "        <facets-overview id=\"elem\"></facets-overview>\n",
        "        <script>\n",
        "          document.querySelector(\"#elem\").protoInput = \"{protostr}\";\n",
        "        </script>\"\"\"\n",
        "html = HTML_TEMPLATE.format(protostr=protostr)\n",
        "display(HTML(html))"
      ]
    },
    {
      "cell_type": "markdown",
      "metadata": {
        "id": "91wjnZFpPWw-"
      },
      "source": [
        "### FairAware Task #1\n",
        "\n",
        "Review the descriptive statistics and histograms for each numerical and continuous feature. Click the **Show Raw Data** button above the histograms for categorical features to see the distribution of values per category.\n",
        "\n",
        "Then, try to answer the following questions from earlier:\n",
        "\n",
        "1. Are there missing feature values for a large number of observations?\n",
        "2. Are there features that are missing that might affect other features?\n",
        "3. Are there any unexpected feature values?\n",
        "4. What signs of data skew do you see?"
      ]
    },
    {
      "cell_type": "markdown",
      "metadata": {
        "id": "KlF-lQ8yQ69b"
      },
      "source": [
        "### Solution\n",
        "\n",
        "Click below for some insights we uncovered."
      ]
    },
    {
      "cell_type": "markdown",
      "metadata": {
        "id": "xX_qjj5AQ_Hb"
      },
      "source": [
        "We can see from reviewing the **missing** column that the following categorical features contain missing values:\n",
        "\n",
        "*   workclass\n",
        "*   occupation\n",
        "\n",
        "Now, because it's only a small percentage of samples that contain either a missing workclass value or occupation value, we can safely drop those rows from the data set. If that percentage was much higher, then we would have to consider using a different data set that is more complete.\n",
        "\n",
        "Luckily, in Pandas, there is a convenient way to drop any row containing a missing value in the data set:\n",
        "\n",
        "```\n",
        "# pandas.DataFrame.dropna(how=\"any\", axis=0, inplace=True)\n",
        "```\n",
        "We will use this method prior to training the model when we convert a Pandas DataFrame to a Numpy array.\n",
        "\n",
        "As for the remaining data that does not contain any missing values: if we look at the min/max values and histograms for each numeric feature, then we can pinpoint any extreme outliers in our data set.\n",
        "\n",
        "For `hours_per_week`, we can see that the minimum is 1, which might be a bit surprising, given that most jobs typically require multiple hours of work per week. For `capital_gain` and `capital_loss`, we can see that over 90% of values are 0. Given that capital gains/losses are only registered by individuals who make investments, it's certainly plausible that less than 10% of examples would have nonzero values for these feature, but we may want to take a closer look to verify the values for these features are valid.\n",
        "\n",
        "In looking at the histogram for gender, we see that over two-thirds (approximately 67%) of examples represent males. This strongly suggests data skew, as we would expect the breakdown between genders to be closer to 50/50."
      ]
    },
    {
      "cell_type": "markdown",
      "metadata": {
        "id": "hKj2hz-Sql7V"
      },
      "source": [
        "### A Deeper Dive\n",
        "\n",
        "To futher explore the dataset, we can use [Facets Dive](https://pair-code.github.io/facets/), a tool that provides an interactive interface where each individual item in the visualization represents a data point. But to use Facets Dive, we need to convert the data to a JSON array.\n",
        "Thankfully the DataFrame method `to_json()` takes care of this for us.\n",
        "\n",
        "Run the cell below to perform the data transform to JSON and also load Facets Dive."
      ]
    },
    {
      "cell_type": "code",
      "execution_count": null,
      "metadata": {
        "cellView": "form",
        "colab": {
          "base_uri": "https://localhost:8080/",
          "height": 617
        },
        "id": "stlklrG_xssF",
        "outputId": "db305e50-72ec-4d85-c2eb-8c6c5dca9b21"
      },
      "outputs": [],
      "source": [
        "#@title Set the Number of Data Points to Visualize in Facets Dive\n",
        "\n",
        "SAMPLE_SIZE = 5000 #@param\n",
        "\n",
        "train_dive = train_df.sample(SAMPLE_SIZE).to_json(orient='records')\n",
        "\n",
        "HTML_TEMPLATE = \"\"\"<script src=\"https://cdnjs.cloudflare.com/ajax/libs/webcomponentsjs/1.3.3/webcomponents-lite.js\"></script>\n",
        "        <link rel=\"import\" href=\"https://raw.githubusercontent.com/PAIR-code/facets/1.0.0/facets-dist/facets-jupyter.html\">\n",
        "        <facets-dive id=\"elem\" height=\"600\"></facets-dive>\n",
        "        <script>\n",
        "          var data = {jsonstr};\n",
        "          document.querySelector(\"#elem\").data = data;\n",
        "        </script>\"\"\"\n",
        "html = HTML_TEMPLATE.format(jsonstr=train_dive)\n",
        "display(HTML(html))"
      ]
    },
    {
      "cell_type": "markdown",
      "metadata": {
        "id": "LxqAPDcRDFB2"
      },
      "source": [
        "## FairAware Task #2\n",
        "\n",
        "Use the menus on the left panel of the visualization to change how the data is organized:\n",
        "\n",
        "1. In the **Binning | X-Axis** menu, select **education**, and in the **Color By** and  **Label By** menus, select **income_bracket**. How would you describe the relationship between education level and income bracket?\n",
        "\n",
        "2. Next, in the **Binning | X-Axis** menu, select  **marital_status**, and in the **Color By** and  **Label By** menus, select **gender**. What noteworthy observations can you make about the gender distributions for each marital-status category?\n",
        "\n",
        "As you perform the above tasks, keep the following fairness-related questions in mind:\n",
        "\n",
        "* **What's missing?**\n",
        "* **What's being overgeneralized?**\n",
        "* **What's being underrepresented?**\n",
        "* **How do the variables, and their values, reflect the real world?**\n",
        "* **What might we be leaving out?**"
      ]
    },
    {
      "cell_type": "markdown",
      "metadata": {
        "id": "qZ-9vJgSEpHj"
      },
      "source": [
        "### Solution\n",
        "\n",
        "Click below for some insights we uncovered."
      ]
    },
    {
      "cell_type": "markdown",
      "metadata": {
        "id": "uYpbgdATEx8L"
      },
      "source": [
        "1. In the data set, higher education levels generally tend to correlate with a higher income bracket. An income level of greater than $50,000 is more heavily represented in examples where education level is Bachelor's degree or higher.\n",
        "\n",
        "2. In most marital-status categories, the distribution of male vs. female values is close to 1:1. The one notable exception is \"married-civ-spouse\", where male outnumbers female by more than 5:1. Given that we already discovered in Task #1 that there is a disproportionately high representation of men in the data set, we can now infer that it's married women specifically that are underrepresented in the data."
      ]
    },
    {
      "cell_type": "markdown",
      "metadata": {
        "id": "7YVH8hYfSjer"
      },
      "source": [
        "### Summary\n",
        "\n",
        "Plotting histograms, ranking most-to-least common examples, identifying duplicate or missing examples, making sure the training and test sets are similar, computing feature quantiles—**these are all critical analyses to perform on your data.**\n",
        "\n",
        "**The better you know what's going on in your data, the more insight you'll have as to where unfairness might creep in!**"
      ]
    },
    {
      "cell_type": "markdown",
      "metadata": {
        "id": "2ivWw9Wpj67m"
      },
      "source": [
        "### FairAware Task #3\n",
        "\n",
        "Now that you've explored the dataset using Facets, see if you can identify some of the problems that may arise with regard to fairness based on what you've learned about its features.\n",
        "\n",
        "Which of the following features might pose a problem with regard to fairness?\n",
        "\n",
        "Choose a feature from the drop-down options in the cell below, and then run the cell to check your answer. Then explore the rest of the options to get more insight about how each influences the model's predictions."
      ]
    }
  ],
  "metadata": {
    "colab": {
      "collapsed_sections": [
        "J8daw3YOIAXH",
        "xFxZOg55lWJE",
        "l-K-xqksm-X3",
        "TXkkHYyJ98_k",
        "91wjnZFpPWw-",
        "KlF-lQ8yQ69b",
        "qZ-9vJgSEpHj",
        "7YVH8hYfSjer",
        "2lx4JuLdi7jw",
        "TF3B5h3c-7Fb"
      ],
      "provenance": []
    },
    "kernelspec": {
      "display_name": ".venv",
      "language": "python",
      "name": "python3"
    },
    "language_info": {
      "codemirror_mode": {
        "name": "ipython",
        "version": 3
      },
      "file_extension": ".py",
      "mimetype": "text/x-python",
      "name": "python",
      "nbconvert_exporter": "python",
      "pygments_lexer": "ipython3",
      "version": "3.12.7"
    }
  },
  "nbformat": 4,
  "nbformat_minor": 0
}
