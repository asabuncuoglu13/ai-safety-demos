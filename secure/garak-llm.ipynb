{
 "cells": [
  {
   "cell_type": "code",
   "execution_count": 1,
   "metadata": {},
   "outputs": [
    {
     "name": "stdout",
     "output_type": "stream",
     "text": [
      "garak LLM vulnerability scanner v0.10.2 ( https://github.com/NVIDIA/garak ) at 2025-02-08T19:52:35.264975\n",
      "📜 logging to /Users/asabuncuoglu/.local/share/garak/garak.log\n",
      "🦜 loading \u001b[1m\u001b[95mgenerator\u001b[0m: Hugging Face 🤗 pipeline: gpt2\n",
      "model.safetensors: 100%|█████████████████████| 548M/548M [00:16<00:00, 33.0MB/s]\n",
      "generation_config.json: 100%|██████████████████| 124/124 [00:00<00:00, 1.31MB/s]\n",
      "tokenizer_config.json: 100%|█████████████████| 26.0/26.0 [00:00<00:00, 82.3kB/s]\n",
      "vocab.json: 100%|██████████████████████████| 1.04M/1.04M [00:00<00:00, 4.38MB/s]\n",
      "merges.txt: 100%|████████████████████████████| 456k/456k [00:00<00:00, 2.31MB/s]\n",
      "tokenizer.json: 100%|██████████████████████| 1.36M/1.36M [00:00<00:00, 4.50MB/s]\n",
      "Device set to use mps\n",
      "📜 reporting to /Users/asabuncuoglu/.local/share/garak/garak_runs/garak.c52bdf70-e43a-422a-9fa7-ca13286b22bf.report.jsonl\n",
      "🕵️  queue of \u001b[1m\u001b[93mprobes:\u001b[0m promptinject.HijackHateHumansMini, promptinject.HijackKillHumansMini, promptinject.HijackLongPromptMini\n",
      "promptinject.HijackHateHumansMini                                     promptinject.AttackRogueString: \u001b[1m\u001b[93mSKIP\u001b[0m  ok on    0/   0\n",
      "promptinject.HijackKillHumansMini                                     promptinject.AttackRogueString: \u001b[1m\u001b[93mSKIP\u001b[0m  ok on    0/   0\n",
      "promptinject.HijackLongPromptMini                                     promptinject.AttackRogueString: \u001b[1m\u001b[93mSKIP\u001b[0m  ok on    0/   0\n",
      "📜 report closed :) /Users/asabuncuoglu/.local/share/garak/garak_runs/garak.c52bdf70-e43a-422a-9fa7-ca13286b22bf.report.jsonl\n",
      "📜 report html summary being written to /Users/asabuncuoglu/.local/share/garak/garak_runs/garak.c52bdf70-e43a-422a-9fa7-ca13286b22bf.report.html\n",
      "✔️  garak run complete in 43.61s\n"
     ]
    }
   ],
   "source": [
    "!python -m garak --model_type huggingface --model_name gpt2 --probes promptinject"
   ]
  },
  {
   "cell_type": "markdown",
   "metadata": {},
   "source": [
    "See the HTML report here: [Garak HTML](./logs/garak.gpt2.report.html)"
   ]
  },
  {
   "cell_type": "code",
   "execution_count": null,
   "metadata": {},
   "outputs": [],
   "source": []
  }
 ],
 "metadata": {
  "kernelspec": {
   "display_name": ".venv",
   "language": "python",
   "name": "python3"
  },
  "language_info": {
   "codemirror_mode": {
    "name": "ipython",
    "version": 3
   },
   "file_extension": ".py",
   "mimetype": "text/x-python",
   "name": "python",
   "nbconvert_exporter": "python",
   "pygments_lexer": "ipython3",
   "version": "3.12.7"
  }
 },
 "nbformat": 4,
 "nbformat_minor": 2
}
